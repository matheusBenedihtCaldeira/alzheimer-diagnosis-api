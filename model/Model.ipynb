{
 "cells": [
  {
   "cell_type": "code",
   "execution_count": 4,
   "id": "51635558-becf-4ef3-93ce-2de4a8bda2f3",
   "metadata": {},
   "outputs": [],
   "source": [
    "import pandas as pd\n",
    "import sklearn\n",
    "from sklearn.model_selection import train_test_split\n",
    "from sklearn.naive_bayes import GaussianNB\n",
    "from sklearn.ensemble import RandomForestClassifier\n",
    "from sklearn.tree import DecisionTreeClassifier\n",
    "from sklearn.preprocessing import LabelEncoder, StandardScaler, MinMaxScaler\n",
    "from sklearn.feature_selection import chi2, SelectKBest\n",
    "from sklearn.metrics import accuracy_score, precision_score, recall_score, f1_score, classification_report\n",
    "import joblib"
   ]
  },
  {
   "cell_type": "code",
   "execution_count": 5,
   "id": "2542ce4c-39e3-4c3c-a0fa-7d0f43a58147",
   "metadata": {
    "scrolled": true
   },
   "outputs": [
    {
     "data": {
      "text/html": [
       "<div>\n",
       "<style scoped>\n",
       "    .dataframe tbody tr th:only-of-type {\n",
       "        vertical-align: middle;\n",
       "    }\n",
       "\n",
       "    .dataframe tbody tr th {\n",
       "        vertical-align: top;\n",
       "    }\n",
       "\n",
       "    .dataframe thead th {\n",
       "        text-align: right;\n",
       "    }\n",
       "</style>\n",
       "<table border=\"1\" class=\"dataframe\">\n",
       "  <thead>\n",
       "    <tr style=\"text-align: right;\">\n",
       "      <th></th>\n",
       "      <th>Group</th>\n",
       "      <th>M/F</th>\n",
       "      <th>Age</th>\n",
       "      <th>EDUC</th>\n",
       "      <th>SES</th>\n",
       "      <th>MMSE</th>\n",
       "      <th>CDR</th>\n",
       "      <th>eTIV</th>\n",
       "      <th>nWBV</th>\n",
       "      <th>ASF</th>\n",
       "    </tr>\n",
       "  </thead>\n",
       "  <tbody>\n",
       "    <tr>\n",
       "      <th>0</th>\n",
       "      <td>Nondemented</td>\n",
       "      <td>M</td>\n",
       "      <td>87</td>\n",
       "      <td>14</td>\n",
       "      <td>2.0</td>\n",
       "      <td>27.0</td>\n",
       "      <td>0.0</td>\n",
       "      <td>1987</td>\n",
       "      <td>0.696</td>\n",
       "      <td>0.883</td>\n",
       "    </tr>\n",
       "    <tr>\n",
       "      <th>1</th>\n",
       "      <td>Nondemented</td>\n",
       "      <td>M</td>\n",
       "      <td>88</td>\n",
       "      <td>14</td>\n",
       "      <td>2.0</td>\n",
       "      <td>30.0</td>\n",
       "      <td>0.0</td>\n",
       "      <td>2004</td>\n",
       "      <td>0.681</td>\n",
       "      <td>0.876</td>\n",
       "    </tr>\n",
       "    <tr>\n",
       "      <th>2</th>\n",
       "      <td>Demented</td>\n",
       "      <td>M</td>\n",
       "      <td>75</td>\n",
       "      <td>12</td>\n",
       "      <td>NaN</td>\n",
       "      <td>23.0</td>\n",
       "      <td>0.5</td>\n",
       "      <td>1678</td>\n",
       "      <td>0.736</td>\n",
       "      <td>1.046</td>\n",
       "    </tr>\n",
       "    <tr>\n",
       "      <th>3</th>\n",
       "      <td>Demented</td>\n",
       "      <td>M</td>\n",
       "      <td>76</td>\n",
       "      <td>12</td>\n",
       "      <td>NaN</td>\n",
       "      <td>28.0</td>\n",
       "      <td>0.5</td>\n",
       "      <td>1738</td>\n",
       "      <td>0.713</td>\n",
       "      <td>1.010</td>\n",
       "    </tr>\n",
       "    <tr>\n",
       "      <th>4</th>\n",
       "      <td>Demented</td>\n",
       "      <td>M</td>\n",
       "      <td>80</td>\n",
       "      <td>12</td>\n",
       "      <td>NaN</td>\n",
       "      <td>22.0</td>\n",
       "      <td>0.5</td>\n",
       "      <td>1698</td>\n",
       "      <td>0.701</td>\n",
       "      <td>1.034</td>\n",
       "    </tr>\n",
       "  </tbody>\n",
       "</table>\n",
       "</div>"
      ],
      "text/plain": [
       "         Group M/F  Age  EDUC  SES  MMSE  CDR  eTIV   nWBV    ASF\n",
       "0  Nondemented   M   87    14  2.0  27.0  0.0  1987  0.696  0.883\n",
       "1  Nondemented   M   88    14  2.0  30.0  0.0  2004  0.681  0.876\n",
       "2     Demented   M   75    12  NaN  23.0  0.5  1678  0.736  1.046\n",
       "3     Demented   M   76    12  NaN  28.0  0.5  1738  0.713  1.010\n",
       "4     Demented   M   80    12  NaN  22.0  0.5  1698  0.701  1.034"
      ]
     },
     "execution_count": 5,
     "metadata": {},
     "output_type": "execute_result"
    }
   ],
   "source": [
    "dataset = pd.read_csv('dataset/alzheimer.csv')\n",
    "dataset.head()"
   ]
  },
  {
   "cell_type": "code",
   "execution_count": 6,
   "id": "f0e43ee7-680f-48fb-8328-a961d8b7f350",
   "metadata": {},
   "outputs": [],
   "source": [
    "# y - dependent variable\n",
    "# x - independent variables\n",
    "y = dataset['Group']\n",
    "X = dataset.iloc[:,1:]"
   ]
  },
  {
   "cell_type": "code",
   "execution_count": 7,
   "id": "ef0c780f-c4d4-4a10-91ae-5b20822eb108",
   "metadata": {},
   "outputs": [
    {
     "data": {
      "text/plain": [
       "M/F      0\n",
       "Age      0\n",
       "EDUC     0\n",
       "SES     19\n",
       "MMSE     2\n",
       "CDR      0\n",
       "eTIV     0\n",
       "nWBV     0\n",
       "ASF      0\n",
       "dtype: int64"
      ]
     },
     "execution_count": 7,
     "metadata": {},
     "output_type": "execute_result"
    }
   ],
   "source": [
    "X.isnull().sum()"
   ]
  },
  {
   "cell_type": "code",
   "execution_count": 8,
   "id": "f21aed1c-9df0-42b1-bedb-049db6998737",
   "metadata": {},
   "outputs": [
    {
     "data": {
      "text/plain": [
       "2.0"
      ]
     },
     "execution_count": 8,
     "metadata": {},
     "output_type": "execute_result"
    }
   ],
   "source": [
    "SESMedian = X['SES'].median()\n",
    "SESMedian"
   ]
  },
  {
   "cell_type": "code",
   "execution_count": 9,
   "id": "6a7c22c6-14db-493f-be8f-58b9b24e52c7",
   "metadata": {},
   "outputs": [],
   "source": [
    "X['SES'].fillna(SESMedian, inplace=True)"
   ]
  },
  {
   "cell_type": "code",
   "execution_count": 10,
   "id": "30ad9e31-4836-456b-b1ed-119bab41e698",
   "metadata": {},
   "outputs": [
    {
     "data": {
      "text/plain": [
       "M/F     0\n",
       "Age     0\n",
       "EDUC    0\n",
       "SES     0\n",
       "MMSE    2\n",
       "CDR     0\n",
       "eTIV    0\n",
       "nWBV    0\n",
       "ASF     0\n",
       "dtype: int64"
      ]
     },
     "execution_count": 10,
     "metadata": {},
     "output_type": "execute_result"
    }
   ],
   "source": [
    "X.isnull().sum()"
   ]
  },
  {
   "cell_type": "code",
   "execution_count": 11,
   "id": "ecbe15bc-dd00-41d9-b6b0-5fda286d9470",
   "metadata": {},
   "outputs": [
    {
     "data": {
      "text/plain": [
       "29.0"
      ]
     },
     "execution_count": 11,
     "metadata": {},
     "output_type": "execute_result"
    }
   ],
   "source": [
    "MMSEMedian = X['MMSE'].median()\n",
    "MMSEMedian"
   ]
  },
  {
   "cell_type": "code",
   "execution_count": 12,
   "id": "514ab754-4c0a-4c87-a860-e1061afad06b",
   "metadata": {},
   "outputs": [],
   "source": [
    "X['MMSE'].fillna(MMSEMedian, inplace=True)"
   ]
  },
  {
   "cell_type": "code",
   "execution_count": 13,
   "id": "48b2c50e-2c18-4ba6-82df-3cbf343e65a0",
   "metadata": {},
   "outputs": [
    {
     "data": {
      "text/plain": [
       "M/F     0\n",
       "Age     0\n",
       "EDUC    0\n",
       "SES     0\n",
       "MMSE    0\n",
       "CDR     0\n",
       "eTIV    0\n",
       "nWBV    0\n",
       "ASF     0\n",
       "dtype: int64"
      ]
     },
     "execution_count": 13,
     "metadata": {},
     "output_type": "execute_result"
    }
   ],
   "source": [
    "X.isnull().sum()"
   ]
  },
  {
   "cell_type": "code",
   "execution_count": 14,
   "id": "9500b67a-4191-4d3d-aed1-5df5932ec1b6",
   "metadata": {},
   "outputs": [
    {
     "data": {
      "text/html": [
       "<div>\n",
       "<style scoped>\n",
       "    .dataframe tbody tr th:only-of-type {\n",
       "        vertical-align: middle;\n",
       "    }\n",
       "\n",
       "    .dataframe tbody tr th {\n",
       "        vertical-align: top;\n",
       "    }\n",
       "\n",
       "    .dataframe thead th {\n",
       "        text-align: right;\n",
       "    }\n",
       "</style>\n",
       "<table border=\"1\" class=\"dataframe\">\n",
       "  <thead>\n",
       "    <tr style=\"text-align: right;\">\n",
       "      <th></th>\n",
       "      <th>M/F</th>\n",
       "      <th>Age</th>\n",
       "      <th>EDUC</th>\n",
       "      <th>SES</th>\n",
       "      <th>MMSE</th>\n",
       "      <th>CDR</th>\n",
       "      <th>eTIV</th>\n",
       "      <th>nWBV</th>\n",
       "      <th>ASF</th>\n",
       "    </tr>\n",
       "  </thead>\n",
       "  <tbody>\n",
       "    <tr>\n",
       "      <th>0</th>\n",
       "      <td>1</td>\n",
       "      <td>87</td>\n",
       "      <td>14</td>\n",
       "      <td>2.0</td>\n",
       "      <td>27.0</td>\n",
       "      <td>0.0</td>\n",
       "      <td>1987</td>\n",
       "      <td>0.696</td>\n",
       "      <td>0.883</td>\n",
       "    </tr>\n",
       "    <tr>\n",
       "      <th>1</th>\n",
       "      <td>1</td>\n",
       "      <td>88</td>\n",
       "      <td>14</td>\n",
       "      <td>2.0</td>\n",
       "      <td>30.0</td>\n",
       "      <td>0.0</td>\n",
       "      <td>2004</td>\n",
       "      <td>0.681</td>\n",
       "      <td>0.876</td>\n",
       "    </tr>\n",
       "    <tr>\n",
       "      <th>2</th>\n",
       "      <td>1</td>\n",
       "      <td>75</td>\n",
       "      <td>12</td>\n",
       "      <td>2.0</td>\n",
       "      <td>23.0</td>\n",
       "      <td>0.5</td>\n",
       "      <td>1678</td>\n",
       "      <td>0.736</td>\n",
       "      <td>1.046</td>\n",
       "    </tr>\n",
       "    <tr>\n",
       "      <th>3</th>\n",
       "      <td>1</td>\n",
       "      <td>76</td>\n",
       "      <td>12</td>\n",
       "      <td>2.0</td>\n",
       "      <td>28.0</td>\n",
       "      <td>0.5</td>\n",
       "      <td>1738</td>\n",
       "      <td>0.713</td>\n",
       "      <td>1.010</td>\n",
       "    </tr>\n",
       "    <tr>\n",
       "      <th>4</th>\n",
       "      <td>1</td>\n",
       "      <td>80</td>\n",
       "      <td>12</td>\n",
       "      <td>2.0</td>\n",
       "      <td>22.0</td>\n",
       "      <td>0.5</td>\n",
       "      <td>1698</td>\n",
       "      <td>0.701</td>\n",
       "      <td>1.034</td>\n",
       "    </tr>\n",
       "  </tbody>\n",
       "</table>\n",
       "</div>"
      ],
      "text/plain": [
       "   M/F  Age  EDUC  SES  MMSE  CDR  eTIV   nWBV    ASF\n",
       "0    1   87    14  2.0  27.0  0.0  1987  0.696  0.883\n",
       "1    1   88    14  2.0  30.0  0.0  2004  0.681  0.876\n",
       "2    1   75    12  2.0  23.0  0.5  1678  0.736  1.046\n",
       "3    1   76    12  2.0  28.0  0.5  1738  0.713  1.010\n",
       "4    1   80    12  2.0  22.0  0.5  1698  0.701  1.034"
      ]
     },
     "execution_count": 14,
     "metadata": {},
     "output_type": "execute_result"
    }
   ],
   "source": [
    "labelEncoder = LabelEncoder()\n",
    "X['M/F'] = labelEncoder.fit_transform(X['M/F'])\n",
    "X.head()"
   ]
  },
  {
   "cell_type": "code",
   "execution_count": 15,
   "id": "50a46e4f-f4be-4a0b-8d4e-573284d0e0aa",
   "metadata": {},
   "outputs": [
    {
     "data": {
      "text/plain": [
       "array([[ 1.30873772, -0.20813199, -0.3944662 , ...,  2.83605891,\n",
       "        -0.90516867, -2.2657425 ],\n",
       "       [ 1.43978716, -0.20813199, -0.3944662 , ...,  2.93270307,\n",
       "        -1.30964265, -2.31650145],\n",
       "       [-0.26385558, -0.90439416, -0.3944662 , ...,  1.07940909,\n",
       "         0.17342861, -1.08378418],\n",
       "       ...,\n",
       "       [-2.09854775, -0.55626308, -0.3944662 , ..., -0.96148827,\n",
       "         1.92614919,  0.98283006],\n",
       "       [-1.83644887, -0.55626308, -0.3944662 , ..., -0.91600866,\n",
       "         1.79132453,  0.92481984],\n",
       "       [-1.57434999, -0.55626308, -0.3944662 , ..., -0.88189896,\n",
       "         1.92614919,  0.88131217]])"
      ]
     },
     "execution_count": 15,
     "metadata": {},
     "output_type": "execute_result"
    }
   ],
   "source": [
    "standardScaler = StandardScaler()\n",
    "standardizedData = standardScaler.fit(X.iloc[:,1:9])\n",
    "standardizedData = standardScaler.transform(X.iloc[:,1:9])\n",
    "standardizedData"
   ]
  },
  {
   "cell_type": "code",
   "execution_count": 16,
   "id": "04404b4b-b9d4-4d63-97fb-32f570f044d3",
   "metadata": {},
   "outputs": [
    {
     "data": {
      "text/html": [
       "<div>\n",
       "<style scoped>\n",
       "    .dataframe tbody tr th:only-of-type {\n",
       "        vertical-align: middle;\n",
       "    }\n",
       "\n",
       "    .dataframe tbody tr th {\n",
       "        vertical-align: top;\n",
       "    }\n",
       "\n",
       "    .dataframe thead th {\n",
       "        text-align: right;\n",
       "    }\n",
       "</style>\n",
       "<table border=\"1\" class=\"dataframe\">\n",
       "  <thead>\n",
       "    <tr style=\"text-align: right;\">\n",
       "      <th></th>\n",
       "      <th>M/F</th>\n",
       "      <th>Age_N</th>\n",
       "      <th>EDUC_N</th>\n",
       "      <th>SES_N</th>\n",
       "      <th>MMSE_N</th>\n",
       "      <th>CDR_N</th>\n",
       "      <th>eTIV_N</th>\n",
       "      <th>nWBV_N</th>\n",
       "      <th>ASF_N</th>\n",
       "    </tr>\n",
       "  </thead>\n",
       "  <tbody>\n",
       "    <tr>\n",
       "      <th>0</th>\n",
       "      <td>1</td>\n",
       "      <td>1.308738</td>\n",
       "      <td>-0.208132</td>\n",
       "      <td>-0.394466</td>\n",
       "      <td>-0.095686</td>\n",
       "      <td>-0.777653</td>\n",
       "      <td>2.836059</td>\n",
       "      <td>-0.905169</td>\n",
       "      <td>-2.265742</td>\n",
       "    </tr>\n",
       "    <tr>\n",
       "      <th>1</th>\n",
       "      <td>1</td>\n",
       "      <td>1.439787</td>\n",
       "      <td>-0.208132</td>\n",
       "      <td>-0.394466</td>\n",
       "      <td>0.721664</td>\n",
       "      <td>-0.777653</td>\n",
       "      <td>2.932703</td>\n",
       "      <td>-1.309643</td>\n",
       "      <td>-2.316501</td>\n",
       "    </tr>\n",
       "    <tr>\n",
       "      <th>2</th>\n",
       "      <td>1</td>\n",
       "      <td>-0.263856</td>\n",
       "      <td>-0.904394</td>\n",
       "      <td>-0.394466</td>\n",
       "      <td>-1.185486</td>\n",
       "      <td>0.559050</td>\n",
       "      <td>1.079409</td>\n",
       "      <td>0.173429</td>\n",
       "      <td>-1.083784</td>\n",
       "    </tr>\n",
       "    <tr>\n",
       "      <th>3</th>\n",
       "      <td>1</td>\n",
       "      <td>-0.132806</td>\n",
       "      <td>-0.904394</td>\n",
       "      <td>-0.394466</td>\n",
       "      <td>0.176764</td>\n",
       "      <td>0.559050</td>\n",
       "      <td>1.420506</td>\n",
       "      <td>-0.446765</td>\n",
       "      <td>-1.344830</td>\n",
       "    </tr>\n",
       "    <tr>\n",
       "      <th>4</th>\n",
       "      <td>1</td>\n",
       "      <td>0.391392</td>\n",
       "      <td>-0.904394</td>\n",
       "      <td>-0.394466</td>\n",
       "      <td>-1.457936</td>\n",
       "      <td>0.559050</td>\n",
       "      <td>1.193108</td>\n",
       "      <td>-0.770344</td>\n",
       "      <td>-1.170800</td>\n",
       "    </tr>\n",
       "  </tbody>\n",
       "</table>\n",
       "</div>"
      ],
      "text/plain": [
       "   M/F     Age_N    EDUC_N     SES_N    MMSE_N     CDR_N    eTIV_N    nWBV_N  \\\n",
       "0    1  1.308738 -0.208132 -0.394466 -0.095686 -0.777653  2.836059 -0.905169   \n",
       "1    1  1.439787 -0.208132 -0.394466  0.721664 -0.777653  2.932703 -1.309643   \n",
       "2    1 -0.263856 -0.904394 -0.394466 -1.185486  0.559050  1.079409  0.173429   \n",
       "3    1 -0.132806 -0.904394 -0.394466  0.176764  0.559050  1.420506 -0.446765   \n",
       "4    1  0.391392 -0.904394 -0.394466 -1.457936  0.559050  1.193108 -0.770344   \n",
       "\n",
       "      ASF_N  \n",
       "0 -2.265742  \n",
       "1 -2.316501  \n",
       "2 -1.083784  \n",
       "3 -1.344830  \n",
       "4 -1.170800  "
      ]
     },
     "execution_count": 16,
     "metadata": {},
     "output_type": "execute_result"
    }
   ],
   "source": [
    "X = pd.concat([X, pd.DataFrame(standardizedData,columns=['Age_N', 'EDUC_N', 'SES_N', 'MMSE_N', 'CDR_N', 'eTIV_N', 'nWBV_N', 'ASF_N'])], axis = 1)\n",
    "X.drop(columns=['Age', 'EDUC', 'SES', 'MMSE', 'CDR', 'eTIV', 'nWBV', 'ASF'], inplace=True)\n",
    "X.head()"
   ]
  },
  {
   "cell_type": "code",
   "execution_count": 17,
   "id": "6a0d908c-4ee4-4a2b-ac2e-8c7ac42a6c20",
   "metadata": {},
   "outputs": [],
   "source": [
    "# y - dependent variable\n",
    "# x - independent variables\n",
    "X_training, X_test, y_training, y_test = train_test_split(X,y, test_size=0.4, random_state=1)"
   ]
  },
  {
   "cell_type": "code",
   "execution_count": 18,
   "id": "be8a7009-7773-48d4-b5a1-3110861e9225",
   "metadata": {},
   "outputs": [
    {
     "data": {
      "text/html": [
       "<style>#sk-container-id-1 {color: black;}#sk-container-id-1 pre{padding: 0;}#sk-container-id-1 div.sk-toggleable {background-color: white;}#sk-container-id-1 label.sk-toggleable__label {cursor: pointer;display: block;width: 100%;margin-bottom: 0;padding: 0.3em;box-sizing: border-box;text-align: center;}#sk-container-id-1 label.sk-toggleable__label-arrow:before {content: \"▸\";float: left;margin-right: 0.25em;color: #696969;}#sk-container-id-1 label.sk-toggleable__label-arrow:hover:before {color: black;}#sk-container-id-1 div.sk-estimator:hover label.sk-toggleable__label-arrow:before {color: black;}#sk-container-id-1 div.sk-toggleable__content {max-height: 0;max-width: 0;overflow: hidden;text-align: left;background-color: #f0f8ff;}#sk-container-id-1 div.sk-toggleable__content pre {margin: 0.2em;color: black;border-radius: 0.25em;background-color: #f0f8ff;}#sk-container-id-1 input.sk-toggleable__control:checked~div.sk-toggleable__content {max-height: 200px;max-width: 100%;overflow: auto;}#sk-container-id-1 input.sk-toggleable__control:checked~label.sk-toggleable__label-arrow:before {content: \"▾\";}#sk-container-id-1 div.sk-estimator input.sk-toggleable__control:checked~label.sk-toggleable__label {background-color: #d4ebff;}#sk-container-id-1 div.sk-label input.sk-toggleable__control:checked~label.sk-toggleable__label {background-color: #d4ebff;}#sk-container-id-1 input.sk-hidden--visually {border: 0;clip: rect(1px 1px 1px 1px);clip: rect(1px, 1px, 1px, 1px);height: 1px;margin: -1px;overflow: hidden;padding: 0;position: absolute;width: 1px;}#sk-container-id-1 div.sk-estimator {font-family: monospace;background-color: #f0f8ff;border: 1px dotted black;border-radius: 0.25em;box-sizing: border-box;margin-bottom: 0.5em;}#sk-container-id-1 div.sk-estimator:hover {background-color: #d4ebff;}#sk-container-id-1 div.sk-parallel-item::after {content: \"\";width: 100%;border-bottom: 1px solid gray;flex-grow: 1;}#sk-container-id-1 div.sk-label:hover label.sk-toggleable__label {background-color: #d4ebff;}#sk-container-id-1 div.sk-serial::before {content: \"\";position: absolute;border-left: 1px solid gray;box-sizing: border-box;top: 0;bottom: 0;left: 50%;z-index: 0;}#sk-container-id-1 div.sk-serial {display: flex;flex-direction: column;align-items: center;background-color: white;padding-right: 0.2em;padding-left: 0.2em;position: relative;}#sk-container-id-1 div.sk-item {position: relative;z-index: 1;}#sk-container-id-1 div.sk-parallel {display: flex;align-items: stretch;justify-content: center;background-color: white;position: relative;}#sk-container-id-1 div.sk-item::before, #sk-container-id-1 div.sk-parallel-item::before {content: \"\";position: absolute;border-left: 1px solid gray;box-sizing: border-box;top: 0;bottom: 0;left: 50%;z-index: -1;}#sk-container-id-1 div.sk-parallel-item {display: flex;flex-direction: column;z-index: 1;position: relative;background-color: white;}#sk-container-id-1 div.sk-parallel-item:first-child::after {align-self: flex-end;width: 50%;}#sk-container-id-1 div.sk-parallel-item:last-child::after {align-self: flex-start;width: 50%;}#sk-container-id-1 div.sk-parallel-item:only-child::after {width: 0;}#sk-container-id-1 div.sk-dashed-wrapped {border: 1px dashed gray;margin: 0 0.4em 0.5em 0.4em;box-sizing: border-box;padding-bottom: 0.4em;background-color: white;}#sk-container-id-1 div.sk-label label {font-family: monospace;font-weight: bold;display: inline-block;line-height: 1.2em;}#sk-container-id-1 div.sk-label-container {text-align: center;}#sk-container-id-1 div.sk-container {/* jupyter's `normalize.less` sets `[hidden] { display: none; }` but bootstrap.min.css set `[hidden] { display: none !important; }` so we also need the `!important` here to be able to override the default hidden behavior on the sphinx rendered scikit-learn.org. See: https://github.com/scikit-learn/scikit-learn/issues/21755 */display: inline-block !important;position: relative;}#sk-container-id-1 div.sk-text-repr-fallback {display: none;}</style><div id=\"sk-container-id-1\" class=\"sk-top-container\"><div class=\"sk-text-repr-fallback\"><pre>GaussianNB()</pre><b>In a Jupyter environment, please rerun this cell to show the HTML representation or trust the notebook. <br />On GitHub, the HTML representation is unable to render, please try loading this page with nbviewer.org.</b></div><div class=\"sk-container\" hidden><div class=\"sk-item\"><div class=\"sk-estimator sk-toggleable\"><input class=\"sk-toggleable__control sk-hidden--visually\" id=\"sk-estimator-id-1\" type=\"checkbox\" checked><label for=\"sk-estimator-id-1\" class=\"sk-toggleable__label sk-toggleable__label-arrow\">GaussianNB</label><div class=\"sk-toggleable__content\"><pre>GaussianNB()</pre></div></div></div></div></div>"
      ],
      "text/plain": [
       "GaussianNB()"
      ]
     },
     "execution_count": 18,
     "metadata": {},
     "output_type": "execute_result"
    }
   ],
   "source": [
    "NaiveBayes_model = GaussianNB()\n",
    "NaiveBayes_model.fit(X_training, y_training)"
   ]
  },
  {
   "cell_type": "code",
   "execution_count": 19,
   "id": "a34272dc-30c9-43c9-882e-60b493bb4962",
   "metadata": {},
   "outputs": [],
   "source": [
    "NaiveBayes_prediction = NaiveBayes_model.predict(X_test)"
   ]
  },
  {
   "cell_type": "code",
   "execution_count": 20,
   "id": "c6bf4e6a-0b83-45e0-86b5-fd9dd28905dc",
   "metadata": {},
   "outputs": [
    {
     "name": "stdout",
     "output_type": "stream",
     "text": [
      "Naive bayes Accuracy: 0.9133333333333333, Naive Bayes Precision: 0.9211008939974458, Naive Bayes Recall: 0.9133333333333333, Naive Bayes F1: 0.8822311108363472\n"
     ]
    }
   ],
   "source": [
    "#Naive bayes model metrics\n",
    "NaiveBayesAccuracy = accuracy_score(y_test, NaiveBayes_prediction)\n",
    "NaiveBayesPrecision = precision_score(y_test, NaiveBayes_prediction, average = 'weighted')\n",
    "NaiveBayesRecall = recall_score(y_test, NaiveBayes_prediction, average = 'weighted')\n",
    "NaiveBayesF1 = f1_score(y_test, NaiveBayes_prediction,  average = 'weighted')\n",
    "print(f'Naive bayes Accuracy: {NaiveBayesAccuracy}, Naive Bayes Precision: {NaiveBayesPrecision}, Naive Bayes Recall: {NaiveBayesRecall}, Naive Bayes F1: {NaiveBayesF1}')"
   ]
  },
  {
   "cell_type": "code",
   "execution_count": 21,
   "id": "6992fd26-1461-49ea-8b96-7d60f67a2738",
   "metadata": {},
   "outputs": [
    {
     "name": "stdout",
     "output_type": "stream",
     "text": [
      "              precision    recall  f1-score   support\n",
      "\n",
      "   Converted       1.00      0.13      0.24        15\n",
      "    Demented       0.90      1.00      0.95        52\n",
      " Nondemented       0.92      1.00      0.96        83\n",
      "\n",
      "    accuracy                           0.91       150\n",
      "   macro avg       0.94      0.71      0.71       150\n",
      "weighted avg       0.92      0.91      0.88       150\n",
      "\n"
     ]
    }
   ],
   "source": [
    "report = classification_report(y_test, NaiveBayes_prediction)\n",
    "print(report)"
   ]
  },
  {
   "cell_type": "code",
   "execution_count": 41,
   "id": "117e4d01-5646-4487-a6d2-9c3193876572",
   "metadata": {},
   "outputs": [
    {
     "data": {
      "text/html": [
       "<style>#sk-container-id-6 {color: black;}#sk-container-id-6 pre{padding: 0;}#sk-container-id-6 div.sk-toggleable {background-color: white;}#sk-container-id-6 label.sk-toggleable__label {cursor: pointer;display: block;width: 100%;margin-bottom: 0;padding: 0.3em;box-sizing: border-box;text-align: center;}#sk-container-id-6 label.sk-toggleable__label-arrow:before {content: \"▸\";float: left;margin-right: 0.25em;color: #696969;}#sk-container-id-6 label.sk-toggleable__label-arrow:hover:before {color: black;}#sk-container-id-6 div.sk-estimator:hover label.sk-toggleable__label-arrow:before {color: black;}#sk-container-id-6 div.sk-toggleable__content {max-height: 0;max-width: 0;overflow: hidden;text-align: left;background-color: #f0f8ff;}#sk-container-id-6 div.sk-toggleable__content pre {margin: 0.2em;color: black;border-radius: 0.25em;background-color: #f0f8ff;}#sk-container-id-6 input.sk-toggleable__control:checked~div.sk-toggleable__content {max-height: 200px;max-width: 100%;overflow: auto;}#sk-container-id-6 input.sk-toggleable__control:checked~label.sk-toggleable__label-arrow:before {content: \"▾\";}#sk-container-id-6 div.sk-estimator input.sk-toggleable__control:checked~label.sk-toggleable__label {background-color: #d4ebff;}#sk-container-id-6 div.sk-label input.sk-toggleable__control:checked~label.sk-toggleable__label {background-color: #d4ebff;}#sk-container-id-6 input.sk-hidden--visually {border: 0;clip: rect(1px 1px 1px 1px);clip: rect(1px, 1px, 1px, 1px);height: 1px;margin: -1px;overflow: hidden;padding: 0;position: absolute;width: 1px;}#sk-container-id-6 div.sk-estimator {font-family: monospace;background-color: #f0f8ff;border: 1px dotted black;border-radius: 0.25em;box-sizing: border-box;margin-bottom: 0.5em;}#sk-container-id-6 div.sk-estimator:hover {background-color: #d4ebff;}#sk-container-id-6 div.sk-parallel-item::after {content: \"\";width: 100%;border-bottom: 1px solid gray;flex-grow: 1;}#sk-container-id-6 div.sk-label:hover label.sk-toggleable__label {background-color: #d4ebff;}#sk-container-id-6 div.sk-serial::before {content: \"\";position: absolute;border-left: 1px solid gray;box-sizing: border-box;top: 0;bottom: 0;left: 50%;z-index: 0;}#sk-container-id-6 div.sk-serial {display: flex;flex-direction: column;align-items: center;background-color: white;padding-right: 0.2em;padding-left: 0.2em;position: relative;}#sk-container-id-6 div.sk-item {position: relative;z-index: 1;}#sk-container-id-6 div.sk-parallel {display: flex;align-items: stretch;justify-content: center;background-color: white;position: relative;}#sk-container-id-6 div.sk-item::before, #sk-container-id-6 div.sk-parallel-item::before {content: \"\";position: absolute;border-left: 1px solid gray;box-sizing: border-box;top: 0;bottom: 0;left: 50%;z-index: -1;}#sk-container-id-6 div.sk-parallel-item {display: flex;flex-direction: column;z-index: 1;position: relative;background-color: white;}#sk-container-id-6 div.sk-parallel-item:first-child::after {align-self: flex-end;width: 50%;}#sk-container-id-6 div.sk-parallel-item:last-child::after {align-self: flex-start;width: 50%;}#sk-container-id-6 div.sk-parallel-item:only-child::after {width: 0;}#sk-container-id-6 div.sk-dashed-wrapped {border: 1px dashed gray;margin: 0 0.4em 0.5em 0.4em;box-sizing: border-box;padding-bottom: 0.4em;background-color: white;}#sk-container-id-6 div.sk-label label {font-family: monospace;font-weight: bold;display: inline-block;line-height: 1.2em;}#sk-container-id-6 div.sk-label-container {text-align: center;}#sk-container-id-6 div.sk-container {/* jupyter's `normalize.less` sets `[hidden] { display: none; }` but bootstrap.min.css set `[hidden] { display: none !important; }` so we also need the `!important` here to be able to override the default hidden behavior on the sphinx rendered scikit-learn.org. See: https://github.com/scikit-learn/scikit-learn/issues/21755 */display: inline-block !important;position: relative;}#sk-container-id-6 div.sk-text-repr-fallback {display: none;}</style><div id=\"sk-container-id-6\" class=\"sk-top-container\"><div class=\"sk-text-repr-fallback\"><pre>DecisionTreeClassifier(max_depth=6, max_leaf_nodes=8, random_state=1)</pre><b>In a Jupyter environment, please rerun this cell to show the HTML representation or trust the notebook. <br />On GitHub, the HTML representation is unable to render, please try loading this page with nbviewer.org.</b></div><div class=\"sk-container\" hidden><div class=\"sk-item\"><div class=\"sk-estimator sk-toggleable\"><input class=\"sk-toggleable__control sk-hidden--visually\" id=\"sk-estimator-id-6\" type=\"checkbox\" checked><label for=\"sk-estimator-id-6\" class=\"sk-toggleable__label sk-toggleable__label-arrow\">DecisionTreeClassifier</label><div class=\"sk-toggleable__content\"><pre>DecisionTreeClassifier(max_depth=6, max_leaf_nodes=8, random_state=1)</pre></div></div></div></div></div>"
      ],
      "text/plain": [
       "DecisionTreeClassifier(max_depth=6, max_leaf_nodes=8, random_state=1)"
      ]
     },
     "execution_count": 41,
     "metadata": {},
     "output_type": "execute_result"
    }
   ],
   "source": [
    "DecisionTreeModel = DecisionTreeClassifier(random_state = 1, max_depth = 6, max_leaf_nodes=8)\n",
    "DecisionTreeModel.fit(X_training, y_training)"
   ]
  },
  {
   "cell_type": "code",
   "execution_count": 42,
   "id": "7382a874-da64-4e0d-978e-2a0bc7415e48",
   "metadata": {},
   "outputs": [],
   "source": [
    "DecisionTreePrediction = DecisionTreeModel.predict(X_test)"
   ]
  },
  {
   "cell_type": "code",
   "execution_count": 45,
   "id": "043d5891-188b-492b-b33d-4293f17923fd",
   "metadata": {},
   "outputs": [
    {
     "name": "stdout",
     "output_type": "stream",
     "text": [
      "Naive Decision Tree Accuracy: 0.9066666666666666, Decision Tree Precision: 0.8870695970695971, Decision Tree Recall: 0.9066666666666666, Decision Tree F1: 0.8775223499361431\n"
     ]
    }
   ],
   "source": [
    "#Decision Tree model metrics\n",
    "DecisionTreeAccuracy = accuracy_score(y_test, DecisionTreePrediction)\n",
    "DecisionTreePrecision = precision_score(y_test, DecisionTreePrediction, average = 'weighted')\n",
    "DecisionTreeRecall = recall_score(y_test, DecisionTreePrediction, average = 'weighted')\n",
    "DecisionTreeF1 = f1_score(y_test, DecisionTreePrediction,  average = 'weighted')\n",
    "print(f'Naive Decision Tree Accuracy: {DecisionTreeAccuracy}, Decision Tree Precision: {DecisionTreePrecision}, Decision Tree Recall: {DecisionTreeRecall}, Decision Tree F1: {DecisionTreeF1}')"
   ]
  },
  {
   "cell_type": "code",
   "execution_count": 46,
   "id": "8f308e34-f946-4fd5-9a3a-8d50b8651ce9",
   "metadata": {},
   "outputs": [
    {
     "name": "stdout",
     "output_type": "stream",
     "text": [
      "              precision    recall  f1-score   support\n",
      "\n",
      "   Converted       0.67      0.13      0.22        15\n",
      "    Demented       0.91      0.98      0.94        52\n",
      " Nondemented       0.91      1.00      0.95        83\n",
      "\n",
      "    accuracy                           0.91       150\n",
      "   macro avg       0.83      0.70      0.71       150\n",
      "weighted avg       0.89      0.91      0.88       150\n",
      "\n"
     ]
    }
   ],
   "source": [
    "report = classification_report(y_test, DecisionTreePrediction)\n",
    "print(report)"
   ]
  },
  {
   "cell_type": "code",
   "execution_count": 66,
   "id": "44812850-80aa-4df8-8ab5-3d1cdae4b22d",
   "metadata": {},
   "outputs": [
    {
     "data": {
      "text/html": [
       "<style>#sk-container-id-12 {color: black;}#sk-container-id-12 pre{padding: 0;}#sk-container-id-12 div.sk-toggleable {background-color: white;}#sk-container-id-12 label.sk-toggleable__label {cursor: pointer;display: block;width: 100%;margin-bottom: 0;padding: 0.3em;box-sizing: border-box;text-align: center;}#sk-container-id-12 label.sk-toggleable__label-arrow:before {content: \"▸\";float: left;margin-right: 0.25em;color: #696969;}#sk-container-id-12 label.sk-toggleable__label-arrow:hover:before {color: black;}#sk-container-id-12 div.sk-estimator:hover label.sk-toggleable__label-arrow:before {color: black;}#sk-container-id-12 div.sk-toggleable__content {max-height: 0;max-width: 0;overflow: hidden;text-align: left;background-color: #f0f8ff;}#sk-container-id-12 div.sk-toggleable__content pre {margin: 0.2em;color: black;border-radius: 0.25em;background-color: #f0f8ff;}#sk-container-id-12 input.sk-toggleable__control:checked~div.sk-toggleable__content {max-height: 200px;max-width: 100%;overflow: auto;}#sk-container-id-12 input.sk-toggleable__control:checked~label.sk-toggleable__label-arrow:before {content: \"▾\";}#sk-container-id-12 div.sk-estimator input.sk-toggleable__control:checked~label.sk-toggleable__label {background-color: #d4ebff;}#sk-container-id-12 div.sk-label input.sk-toggleable__control:checked~label.sk-toggleable__label {background-color: #d4ebff;}#sk-container-id-12 input.sk-hidden--visually {border: 0;clip: rect(1px 1px 1px 1px);clip: rect(1px, 1px, 1px, 1px);height: 1px;margin: -1px;overflow: hidden;padding: 0;position: absolute;width: 1px;}#sk-container-id-12 div.sk-estimator {font-family: monospace;background-color: #f0f8ff;border: 1px dotted black;border-radius: 0.25em;box-sizing: border-box;margin-bottom: 0.5em;}#sk-container-id-12 div.sk-estimator:hover {background-color: #d4ebff;}#sk-container-id-12 div.sk-parallel-item::after {content: \"\";width: 100%;border-bottom: 1px solid gray;flex-grow: 1;}#sk-container-id-12 div.sk-label:hover label.sk-toggleable__label {background-color: #d4ebff;}#sk-container-id-12 div.sk-serial::before {content: \"\";position: absolute;border-left: 1px solid gray;box-sizing: border-box;top: 0;bottom: 0;left: 50%;z-index: 0;}#sk-container-id-12 div.sk-serial {display: flex;flex-direction: column;align-items: center;background-color: white;padding-right: 0.2em;padding-left: 0.2em;position: relative;}#sk-container-id-12 div.sk-item {position: relative;z-index: 1;}#sk-container-id-12 div.sk-parallel {display: flex;align-items: stretch;justify-content: center;background-color: white;position: relative;}#sk-container-id-12 div.sk-item::before, #sk-container-id-12 div.sk-parallel-item::before {content: \"\";position: absolute;border-left: 1px solid gray;box-sizing: border-box;top: 0;bottom: 0;left: 50%;z-index: -1;}#sk-container-id-12 div.sk-parallel-item {display: flex;flex-direction: column;z-index: 1;position: relative;background-color: white;}#sk-container-id-12 div.sk-parallel-item:first-child::after {align-self: flex-end;width: 50%;}#sk-container-id-12 div.sk-parallel-item:last-child::after {align-self: flex-start;width: 50%;}#sk-container-id-12 div.sk-parallel-item:only-child::after {width: 0;}#sk-container-id-12 div.sk-dashed-wrapped {border: 1px dashed gray;margin: 0 0.4em 0.5em 0.4em;box-sizing: border-box;padding-bottom: 0.4em;background-color: white;}#sk-container-id-12 div.sk-label label {font-family: monospace;font-weight: bold;display: inline-block;line-height: 1.2em;}#sk-container-id-12 div.sk-label-container {text-align: center;}#sk-container-id-12 div.sk-container {/* jupyter's `normalize.less` sets `[hidden] { display: none; }` but bootstrap.min.css set `[hidden] { display: none !important; }` so we also need the `!important` here to be able to override the default hidden behavior on the sphinx rendered scikit-learn.org. See: https://github.com/scikit-learn/scikit-learn/issues/21755 */display: inline-block !important;position: relative;}#sk-container-id-12 div.sk-text-repr-fallback {display: none;}</style><div id=\"sk-container-id-12\" class=\"sk-top-container\"><div class=\"sk-text-repr-fallback\"><pre>RandomForestClassifier(n_estimators=1000, random_state=1)</pre><b>In a Jupyter environment, please rerun this cell to show the HTML representation or trust the notebook. <br />On GitHub, the HTML representation is unable to render, please try loading this page with nbviewer.org.</b></div><div class=\"sk-container\" hidden><div class=\"sk-item\"><div class=\"sk-estimator sk-toggleable\"><input class=\"sk-toggleable__control sk-hidden--visually\" id=\"sk-estimator-id-12\" type=\"checkbox\" checked><label for=\"sk-estimator-id-12\" class=\"sk-toggleable__label sk-toggleable__label-arrow\">RandomForestClassifier</label><div class=\"sk-toggleable__content\"><pre>RandomForestClassifier(n_estimators=1000, random_state=1)</pre></div></div></div></div></div>"
      ],
      "text/plain": [
       "RandomForestClassifier(n_estimators=1000, random_state=1)"
      ]
     },
     "execution_count": 66,
     "metadata": {},
     "output_type": "execute_result"
    }
   ],
   "source": [
    "randomForestModel = RandomForestClassifier(random_state=1, n_estimators=1000, )\n",
    "randomForestModel.fit(X_training, y_training)"
   ]
  },
  {
   "cell_type": "code",
   "execution_count": 67,
   "id": "b2380cc7-c265-45f7-a758-81547483f313",
   "metadata": {},
   "outputs": [],
   "source": [
    "randomForestPrediction = RandomForestModel.predict(X_test)"
   ]
  },
  {
   "cell_type": "code",
   "execution_count": 68,
   "id": "11cb10ba-7068-4028-9a1a-1d874e94fb04",
   "metadata": {},
   "outputs": [
    {
     "name": "stdout",
     "output_type": "stream",
     "text": [
      "Naive Decision Tree Accuracy: 0.9066666666666666, Decision Tree Precision: 0.9154932423897941, Decision Tree Recall: 0.9066666666666666, Decision Tree F1: 0.8681502960640892\n"
     ]
    }
   ],
   "source": [
    "#Decision Tree model metrics\n",
    "randomForestAccuracy = accuracy_score(y_test, randomForestPrediction)\n",
    "randomForestPrecision = precision_score(y_test, randomForestPrediction, average = 'weighted')\n",
    "randomForestRecall = recall_score(y_test, randomForestPrediction, average = 'weighted')\n",
    "randomForestF1 = f1_score(y_test, randomForestPrediction,  average = 'weighted')\n",
    "print(f'Naive Decision Tree Accuracy: {randomForestAccuracy}, Decision Tree Precision: {randomForestPrecision}, Decision Tree Recall: {randomForestRecall}, Decision Tree F1: {randomForestF1}')"
   ]
  },
  {
   "cell_type": "code",
   "execution_count": 69,
   "id": "a0545157-f107-49e0-bc9e-0f38e16fbd98",
   "metadata": {},
   "outputs": [
    {
     "name": "stdout",
     "output_type": "stream",
     "text": [
      "              precision    recall  f1-score   support\n",
      "\n",
      "   Converted       1.00      0.07      0.12        15\n",
      "    Demented       0.90      1.00      0.95        52\n",
      " Nondemented       0.91      1.00      0.95        83\n",
      "\n",
      "    accuracy                           0.91       150\n",
      "   macro avg       0.94      0.69      0.67       150\n",
      "weighted avg       0.92      0.91      0.87       150\n",
      "\n"
     ]
    }
   ],
   "source": [
    "report = classification_report(y_test, randomForestPrediction)\n",
    "print(report)"
   ]
  },
  {
   "cell_type": "code",
   "execution_count": null,
   "id": "a96ca63e-f627-494a-bf4b-2379e45e0f15",
   "metadata": {},
   "outputs": [],
   "source": []
  }
 ],
 "metadata": {
  "kernelspec": {
   "display_name": "Python 3 (ipykernel)",
   "language": "python",
   "name": "python3"
  },
  "language_info": {
   "codemirror_mode": {
    "name": "ipython",
    "version": 3
   },
   "file_extension": ".py",
   "mimetype": "text/x-python",
   "name": "python",
   "nbconvert_exporter": "python",
   "pygments_lexer": "ipython3",
   "version": "3.11.4"
  }
 },
 "nbformat": 4,
 "nbformat_minor": 5
}
